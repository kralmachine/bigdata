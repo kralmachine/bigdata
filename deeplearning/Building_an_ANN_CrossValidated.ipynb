{
 "cells": [
  {
   "cell_type": "markdown",
   "metadata": {},
   "source": [
    "# Bölüm 1 Hazırlık\n",
    "\n",
    "# Kütüphaneleri İndirme"
   ]
  },
  {
   "cell_type": "code",
   "execution_count": null,
   "metadata": {
    "collapsed": true
   },
   "outputs": [],
   "source": [
    "# Import libs\n",
    "import numpy as np\n",
    "import pandas as pd\n",
    "import matplotlib.pyplot as plt"
   ]
  },
  {
   "cell_type": "markdown",
   "metadata": {},
   "source": [
    "# Veriyi Yükleme"
   ]
  },
  {
   "cell_type": "code",
   "execution_count": null,
   "metadata": {
    "collapsed": true
   },
   "outputs": [],
   "source": [
    "# Import dataset\n",
    "dataset = pd.read_csv(\"C:\\\\Users\\\\toshiba\\\\SkyDrive\\\\veribilimi.co\\\\Datasets\\\\Udemy_A_Z_Deep_Learning\\\\Churn_Modelling.csv\")"
   ]
  },
  {
   "cell_type": "code",
   "execution_count": null,
   "metadata": {},
   "outputs": [],
   "source": [
    "# veri setine bakış\n",
    "dataset.head()\n",
    "\n",
    "# Exited hedef değişken"
   ]
  },
  {
   "cell_type": "code",
   "execution_count": null,
   "metadata": {},
   "outputs": [],
   "source": [
    "len(dataset.columns)"
   ]
  },
  {
   "cell_type": "code",
   "execution_count": null,
   "metadata": {
    "collapsed": true
   },
   "outputs": [],
   "source": [
    "# Bağımlı ve bağımsız değişkenleri ayırma\n",
    "# RowNumber, CustomerId, Surname hedef değişkeni tahmin etme bakımından işe yaramaz. Bu yüzden 0,1,2 indeksli nitelikleri\n",
    "# Nitelikler matrisine dahil etmiyoruz. Yukarıda kaç tane nitelik olduğunu yazdırmıştık. Şimdi 0,1,2 hari ise 3'ten başlayacak. \n",
    "# Python'da indeks değeri 0'dan başladığına ve 14 nitalik olduğuna göre son niteliğin indeks değeri 13 olacaktır. iloc ile sütun\n",
    "#seçerken ilk değer dahil ikinci değer hariçtir. bu sebeple 3'ü dahil 13'ü hariç tutacağız. Çünkü son indeks değeri Exited yani\n",
    "# hedef değişkene geliyor. İlk : tüm satırlar \",\" sonrası sütunlardan seçilecek filtre. 3:13 demek 3 dahil 13 hariç indeksli\n",
    "# sütunları seç demek\n",
    "\n",
    "X = dataset.iloc[:,3:13].values\n",
    "\n",
    "# Hedef niteliğimiz 13. indekste idi. O sebeple : ile tüm satırları \",\" den sonra 13 ile hedef niteliğin indeksini seçiyoruz.\n",
    "y = dataset.iloc[:,13].values"
   ]
  },
  {
   "cell_type": "code",
   "execution_count": null,
   "metadata": {},
   "outputs": [],
   "source": [
    "X"
   ]
  },
  {
   "cell_type": "code",
   "execution_count": null,
   "metadata": {},
   "outputs": [],
   "source": [
    "y"
   ]
  },
  {
   "cell_type": "code",
   "execution_count": null,
   "metadata": {},
   "outputs": [],
   "source": [
    "type(X)"
   ]
  },
  {
   "cell_type": "code",
   "execution_count": null,
   "metadata": {},
   "outputs": [],
   "source": [
    "type(y)"
   ]
  },
  {
   "cell_type": "markdown",
   "metadata": {},
   "source": [
    "\n",
    "# Veri setini eğitim ve test olarak bölmeden önce mutlaka kategorik nitelikleri halletmek gerekir."
   ]
  },
  {
   "cell_type": "code",
   "execution_count": null,
   "metadata": {
    "collapsed": true
   },
   "outputs": [],
   "source": [
    "# Hedef nitelik 0 ve 1 olmak üzere zaten nümerik değer olduğu için onu LabelEncoder ile kodlamaya gerek yok.\n",
    "from sklearn.preprocessing import LabelEncoder, OneHotEncoder\n",
    "\n",
    "# X nitelikler matrisini incelediğimizde 1'inci indekste Geography 2'nci indekste Gender'ın kategorik olduğunu görüyoruz.\n",
    "# Önce Geagraphy için LabelEncoder yaratalım\n",
    "labelEncoder_Geo = LabelEncoder()\n",
    "X[:, 1] = labelEncoder_Geo.fit_transform(X[:, 1])\n",
    "\n",
    "# Şimdi Gender için\n",
    "labelEncoder_Gender = LabelEncoder()\n",
    "X[:,2] = labelEncoder_Gender.fit_transform(X[:,2])\n",
    "\n",
    "# Gender binary olduğu için onu oneHot yapmaya gerek yok. Ancak Geography üç değerli olduğu için onu oneHot (Gölge değişken)\n",
    "# yapmalıyız. Bunun için OneHotEncoder sınıfını kullanacağız.\n",
    "# Nesneyi oluşturalım ve dönüştüreceğimiz sütunların indeksinden oluşan listeyi parametre verelim. Burada sadece [1] çünkü\n",
    "# tek bir tane \n",
    "oneHotEncoder = OneHotEncoder(categorical_features=[1])\n",
    "\n",
    "# nesnemizin fit_transform() metodunu kullanarak Geography niteliğini gölge değişkenlere çeviriyoruz ve X'e ekliyoruz.\n",
    "X = oneHotEncoder.fit_transform(X).toarray()"
   ]
  },
  {
   "cell_type": "code",
   "execution_count": null,
   "metadata": {},
   "outputs": [],
   "source": [
    "X.shape"
   ]
  },
  {
   "cell_type": "code",
   "execution_count": null,
   "metadata": {
    "collapsed": true
   },
   "outputs": [],
   "source": [
    "# Gölge Değişken Tuzağından kurtulmak için Yeni oluşturulan gölge değişkenlerden birini çıkaralım\n",
    "X = X[:,1:]"
   ]
  },
  {
   "cell_type": "code",
   "execution_count": null,
   "metadata": {},
   "outputs": [],
   "source": [
    "X.shape"
   ]
  },
  {
   "cell_type": "markdown",
   "metadata": {},
   "source": [
    "# Eğitim ve Test Seti olarak Ayırmak"
   ]
  },
  {
   "cell_type": "code",
   "execution_count": null,
   "metadata": {
    "collapsed": true
   },
   "outputs": [],
   "source": [
    "from sklearn.model_selection import train_test_split\n",
    "\n",
    "#Sıralamaya dikkat. Aynı sonuçlar için random_state değeri aynı olmalıdır.\n",
    "X_train, X_test, y_train, y_test = train_test_split(X, y, test_size=0.20, random_state=0)"
   ]
  },
  {
   "cell_type": "markdown",
   "metadata": {},
   "source": [
    "# Feature Scaling"
   ]
  },
  {
   "cell_type": "code",
   "execution_count": null,
   "metadata": {
    "collapsed": true
   },
   "outputs": [],
   "source": [
    "# Nitelikler matrisini (X) StandardScaler\n",
    "from sklearn.preprocessing import StandardScaler\n",
    "\n",
    "scaler = StandardScaler()\n",
    "X_train = scaler.fit_transform(X_train)\n",
    "X_test = scaler.transform(X_test)"
   ]
  },
  {
   "cell_type": "markdown",
   "metadata": {
    "collapsed": true
   },
   "source": [
    "# Evaluate, Improve and Tune ANN"
   ]
  },
  {
   "cell_type": "code",
   "execution_count": null,
   "metadata": {},
   "outputs": [],
   "source": [
    "from keras.wrappers.scikit_learn import KerasClassifier\n",
    "from sklearn.model_selection import cross_val_score\n",
    "from keras.models import Sequential\n",
    "from keras.layers import Dense"
   ]
  },
  {
   "cell_type": "code",
   "execution_count": null,
   "metadata": {
    "collapsed": true
   },
   "outputs": [],
   "source": [
    "def build_classifier():\n",
    "    classifier = Sequential()\n",
    "    classifier.add(Dense(kernel_initializer = 'uniform', input_dim = 11, units = 6,  activation = 'relu'))\n",
    "    classifier.add(Dense(kernel_initializer = 'uniform', units = 4,  activation = 'relu'))\n",
    "    classifier.add(Dense(kernel_initializer = 'uniform', units = 1,  activation = 'sigmoid'))\n",
    "    classifier.compile(optimizer='adam', loss='binary_crossentropy', metrics=['accuracy'])\n",
    "    return classifier\n",
    "\n",
    "# Fonksiyondan sonra fonksiyon dışında da bir nesne yaratmalıyız. Çünkü o fonksiyon içinde kaldı.\n",
    "classifier = KerasClassifier(build_fn=build_classifier, batch_size=10, epochs=100)"
   ]
  },
  {
   "cell_type": "code",
   "execution_count": null,
   "metadata": {
    "collapsed": true
   },
   "outputs": [],
   "source": [
    "# şimdi cv sonuçlarını alacak bir değişken yaratalım\n",
    "# estimator az önce KerasClassifier sınıfından yarattığımız classifier, X_train ve y_train belli zaten\n",
    "# cv=10 crossvalidation rakamı, n_jobs kaç tane işlemci çekirdeği kullansın -1 müsait olan hepsini kullan demek\n",
    "\n",
    "accuracies = cross_val_score(estimator=classifier, X = X_train, y = y_train, cv=10, n_jobs=-1)"
   ]
  },
  {
   "cell_type": "code",
   "execution_count": null,
   "metadata": {
    "collapsed": true
   },
   "outputs": [],
   "source": [
    "mean = accuracies.mean()\n",
    "variance = accuracies.std()"
   ]
  }
 ],
 "metadata": {
  "kernelspec": {
   "display_name": "Python [conda root]",
   "language": "python",
   "name": "conda-root-py"
  },
  "language_info": {
   "codemirror_mode": {
    "name": "ipython",
    "version": 3
   },
   "file_extension": ".py",
   "mimetype": "text/x-python",
   "name": "python",
   "nbconvert_exporter": "python",
   "pygments_lexer": "ipython3",
   "version": "3.5.3"
  }
 },
 "nbformat": 4,
 "nbformat_minor": 2
}
