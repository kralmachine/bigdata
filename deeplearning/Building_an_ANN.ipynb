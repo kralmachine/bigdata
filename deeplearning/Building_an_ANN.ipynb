{
 "cells": [
  {
   "cell_type": "markdown",
   "metadata": {},
   "source": [
    "# Bölüm 1 Hazırlık\n",
    "\n",
    "# Kütüphaneleri İndirme"
   ]
  },
  {
   "cell_type": "code",
   "execution_count": 1,
   "metadata": {
    "collapsed": true
   },
   "outputs": [],
   "source": [
    "# Import libs\n",
    "import numpy as np\n",
    "import pandas as pd\n",
    "import matplotlib.pyplot as plt"
   ]
  },
  {
   "cell_type": "markdown",
   "metadata": {},
   "source": [
    "# Veriyi Yükleme"
   ]
  },
  {
   "cell_type": "code",
   "execution_count": 2,
   "metadata": {
    "collapsed": true
   },
   "outputs": [],
   "source": [
    "# Import dataset\n",
    "dataset = pd.read_csv(\"C:\\\\Users\\\\toshiba\\\\SkyDrive\\\\veribilimi.co\\\\Datasets\\\\Udemy_A_Z_Deep_Learning\\\\Churn_Modelling.csv\")"
   ]
  },
  {
   "cell_type": "code",
   "execution_count": 3,
   "metadata": {},
   "outputs": [
    {
     "data": {
      "text/html": [
       "<div>\n",
       "<style>\n",
       "    .dataframe thead tr:only-child th {\n",
       "        text-align: right;\n",
       "    }\n",
       "\n",
       "    .dataframe thead th {\n",
       "        text-align: left;\n",
       "    }\n",
       "\n",
       "    .dataframe tbody tr th {\n",
       "        vertical-align: top;\n",
       "    }\n",
       "</style>\n",
       "<table border=\"1\" class=\"dataframe\">\n",
       "  <thead>\n",
       "    <tr style=\"text-align: right;\">\n",
       "      <th></th>\n",
       "      <th>RowNumber</th>\n",
       "      <th>CustomerId</th>\n",
       "      <th>Surname</th>\n",
       "      <th>CreditScore</th>\n",
       "      <th>Geography</th>\n",
       "      <th>Gender</th>\n",
       "      <th>Age</th>\n",
       "      <th>Tenure</th>\n",
       "      <th>Balance</th>\n",
       "      <th>NumOfProducts</th>\n",
       "      <th>HasCrCard</th>\n",
       "      <th>IsActiveMember</th>\n",
       "      <th>EstimatedSalary</th>\n",
       "      <th>Exited</th>\n",
       "    </tr>\n",
       "  </thead>\n",
       "  <tbody>\n",
       "    <tr>\n",
       "      <th>0</th>\n",
       "      <td>1</td>\n",
       "      <td>15634602</td>\n",
       "      <td>Hargrave</td>\n",
       "      <td>619</td>\n",
       "      <td>France</td>\n",
       "      <td>Female</td>\n",
       "      <td>42</td>\n",
       "      <td>2</td>\n",
       "      <td>0.00</td>\n",
       "      <td>1</td>\n",
       "      <td>1</td>\n",
       "      <td>1</td>\n",
       "      <td>101348.88</td>\n",
       "      <td>1</td>\n",
       "    </tr>\n",
       "    <tr>\n",
       "      <th>1</th>\n",
       "      <td>2</td>\n",
       "      <td>15647311</td>\n",
       "      <td>Hill</td>\n",
       "      <td>608</td>\n",
       "      <td>Spain</td>\n",
       "      <td>Female</td>\n",
       "      <td>41</td>\n",
       "      <td>1</td>\n",
       "      <td>83807.86</td>\n",
       "      <td>1</td>\n",
       "      <td>0</td>\n",
       "      <td>1</td>\n",
       "      <td>112542.58</td>\n",
       "      <td>0</td>\n",
       "    </tr>\n",
       "    <tr>\n",
       "      <th>2</th>\n",
       "      <td>3</td>\n",
       "      <td>15619304</td>\n",
       "      <td>Onio</td>\n",
       "      <td>502</td>\n",
       "      <td>France</td>\n",
       "      <td>Female</td>\n",
       "      <td>42</td>\n",
       "      <td>8</td>\n",
       "      <td>159660.80</td>\n",
       "      <td>3</td>\n",
       "      <td>1</td>\n",
       "      <td>0</td>\n",
       "      <td>113931.57</td>\n",
       "      <td>1</td>\n",
       "    </tr>\n",
       "    <tr>\n",
       "      <th>3</th>\n",
       "      <td>4</td>\n",
       "      <td>15701354</td>\n",
       "      <td>Boni</td>\n",
       "      <td>699</td>\n",
       "      <td>France</td>\n",
       "      <td>Female</td>\n",
       "      <td>39</td>\n",
       "      <td>1</td>\n",
       "      <td>0.00</td>\n",
       "      <td>2</td>\n",
       "      <td>0</td>\n",
       "      <td>0</td>\n",
       "      <td>93826.63</td>\n",
       "      <td>0</td>\n",
       "    </tr>\n",
       "    <tr>\n",
       "      <th>4</th>\n",
       "      <td>5</td>\n",
       "      <td>15737888</td>\n",
       "      <td>Mitchell</td>\n",
       "      <td>850</td>\n",
       "      <td>Spain</td>\n",
       "      <td>Female</td>\n",
       "      <td>43</td>\n",
       "      <td>2</td>\n",
       "      <td>125510.82</td>\n",
       "      <td>1</td>\n",
       "      <td>1</td>\n",
       "      <td>1</td>\n",
       "      <td>79084.10</td>\n",
       "      <td>0</td>\n",
       "    </tr>\n",
       "  </tbody>\n",
       "</table>\n",
       "</div>"
      ],
      "text/plain": [
       "   RowNumber  CustomerId   Surname  CreditScore Geography  Gender  Age  \\\n",
       "0          1    15634602  Hargrave          619    France  Female   42   \n",
       "1          2    15647311      Hill          608     Spain  Female   41   \n",
       "2          3    15619304      Onio          502    France  Female   42   \n",
       "3          4    15701354      Boni          699    France  Female   39   \n",
       "4          5    15737888  Mitchell          850     Spain  Female   43   \n",
       "\n",
       "   Tenure    Balance  NumOfProducts  HasCrCard  IsActiveMember  \\\n",
       "0       2       0.00              1          1               1   \n",
       "1       1   83807.86              1          0               1   \n",
       "2       8  159660.80              3          1               0   \n",
       "3       1       0.00              2          0               0   \n",
       "4       2  125510.82              1          1               1   \n",
       "\n",
       "   EstimatedSalary  Exited  \n",
       "0        101348.88       1  \n",
       "1        112542.58       0  \n",
       "2        113931.57       1  \n",
       "3         93826.63       0  \n",
       "4         79084.10       0  "
      ]
     },
     "execution_count": 3,
     "metadata": {},
     "output_type": "execute_result"
    }
   ],
   "source": [
    "# veri setine bakış\n",
    "dataset.head()\n",
    "\n",
    "# Exited hedef değişken"
   ]
  },
  {
   "cell_type": "code",
   "execution_count": 4,
   "metadata": {},
   "outputs": [
    {
     "data": {
      "text/plain": [
       "14"
      ]
     },
     "execution_count": 4,
     "metadata": {},
     "output_type": "execute_result"
    }
   ],
   "source": [
    "len(dataset.columns)"
   ]
  },
  {
   "cell_type": "code",
   "execution_count": 5,
   "metadata": {
    "collapsed": true
   },
   "outputs": [],
   "source": [
    "# Bağımlı ve bağımsız değişkenleri ayırma\n",
    "# RowNumber, CustomerId, Surname hedef değişkeni tahmin etme bakımından işe yaramaz. Bu yüzden 0,1,2 indeksli nitelikleri\n",
    "# Nitelikler matrisine dahil etmiyoruz. Yukarıda kaç tane nitelik olduğunu yazdırmıştık. Şimdi 0,1,2 hari ise 3'ten başlayacak. \n",
    "# Python'da indeks değeri 0'dan başladığına ve 14 nitalik olduğuna göre son niteliğin indeks değeri 13 olacaktır. iloc ile sütun\n",
    "#seçerken ilk değer dahil ikinci değer hariçtir. bu sebeple 3'ü dahil 13'ü hariç tutacağız. Çünkü son indeks değeri Exited yani\n",
    "# hedef değişkene geliyor. İlk : tüm satırlar \",\" sonrası sütunlardan seçilecek filtre. 3:13 demek 3 dahil 13 hariç indeksli\n",
    "# sütunları seç demek\n",
    "\n",
    "X = dataset.iloc[:,3:13].values\n",
    "\n",
    "# Hedef niteliğimiz 13. indekste idi. O sebeple : ile tüm satırları \",\" den sonra 13 ile hedef niteliğin indeksini seçiyoruz.\n",
    "y = dataset.iloc[:,13].values"
   ]
  },
  {
   "cell_type": "code",
   "execution_count": 6,
   "metadata": {},
   "outputs": [
    {
     "data": {
      "text/plain": [
       "array([[619, 'France', 'Female', ..., 1, 1, 101348.88],\n",
       "       [608, 'Spain', 'Female', ..., 0, 1, 112542.58],\n",
       "       [502, 'France', 'Female', ..., 1, 0, 113931.57],\n",
       "       ..., \n",
       "       [709, 'France', 'Female', ..., 0, 1, 42085.58],\n",
       "       [772, 'Germany', 'Male', ..., 1, 0, 92888.52],\n",
       "       [792, 'France', 'Female', ..., 1, 0, 38190.78]], dtype=object)"
      ]
     },
     "execution_count": 6,
     "metadata": {},
     "output_type": "execute_result"
    }
   ],
   "source": [
    "X"
   ]
  },
  {
   "cell_type": "code",
   "execution_count": 7,
   "metadata": {},
   "outputs": [
    {
     "data": {
      "text/plain": [
       "array([1, 0, 1, ..., 1, 1, 0], dtype=int64)"
      ]
     },
     "execution_count": 7,
     "metadata": {},
     "output_type": "execute_result"
    }
   ],
   "source": [
    "y"
   ]
  },
  {
   "cell_type": "code",
   "execution_count": 8,
   "metadata": {},
   "outputs": [
    {
     "data": {
      "text/plain": [
       "numpy.ndarray"
      ]
     },
     "execution_count": 8,
     "metadata": {},
     "output_type": "execute_result"
    }
   ],
   "source": [
    "type(X)"
   ]
  },
  {
   "cell_type": "code",
   "execution_count": 9,
   "metadata": {},
   "outputs": [
    {
     "data": {
      "text/plain": [
       "numpy.ndarray"
      ]
     },
     "execution_count": 9,
     "metadata": {},
     "output_type": "execute_result"
    }
   ],
   "source": [
    "type(y)"
   ]
  },
  {
   "cell_type": "markdown",
   "metadata": {},
   "source": [
    "\n",
    "# Veri setini eğitim ve test olarak bölmeden önce mutlaka kategorik nitelikleri halletmek gerekir."
   ]
  },
  {
   "cell_type": "code",
   "execution_count": 10,
   "metadata": {
    "collapsed": true
   },
   "outputs": [],
   "source": [
    "# Hedef nitelik 0 ve 1 olmak üzere zaten nümerik değer olduğu için onu LabelEncoder ile kodlamaya gerek yok.\n",
    "from sklearn.preprocessing import LabelEncoder, OneHotEncoder\n",
    "\n",
    "# X nitelikler matrisini incelediğimizde 1'inci indekste Geography 2'nci indekste Gender'ın kategorik olduğunu görüyoruz.\n",
    "# Önce Geagraphy için LabelEncoder yaratalım\n",
    "labelEncoder_Geo = LabelEncoder()\n",
    "X[:, 1] = labelEncoder_Geo.fit_transform(X[:, 1])\n",
    "\n",
    "# Şimdi Gender için\n",
    "labelEncoder_Gender = LabelEncoder()\n",
    "X[:,2] = labelEncoder_Gender.fit_transform(X[:,2])\n",
    "\n",
    "# Gender binary olduğu için onu oneHot yapmaya gerek yok. Ancak Geography üç değerli olduğu için onu oneHot (Gölge değişken)\n",
    "# yapmalıyız. Bunun için OneHotEncoder sınıfını kullanacağız.\n",
    "# Nesneyi oluşturalım ve dönüştüreceğimiz sütunların indeksinden oluşan listeyi parametre verelim. Burada sadece [1] çünkü\n",
    "# tek bir tane \n",
    "oneHotEncoder = OneHotEncoder(categorical_features=[1])\n",
    "\n",
    "# nesnemizin fit_transform() metodunu kullanarak Geography niteliğini gölge değişkenlere çeviriyoruz ve X'e ekliyoruz.\n",
    "X = oneHotEncoder.fit_transform(X).toarray()"
   ]
  },
  {
   "cell_type": "code",
   "execution_count": 11,
   "metadata": {},
   "outputs": [
    {
     "data": {
      "text/plain": [
       "(10000, 12)"
      ]
     },
     "execution_count": 11,
     "metadata": {},
     "output_type": "execute_result"
    }
   ],
   "source": [
    "X.shape"
   ]
  },
  {
   "cell_type": "code",
   "execution_count": 12,
   "metadata": {
    "collapsed": true
   },
   "outputs": [],
   "source": [
    "# Gölge Değişken Tuzağından kurtulmak için Yeni oluşturulan gölge değişkenlerden birini çıkaralım\n",
    "X = X[:,1:]"
   ]
  },
  {
   "cell_type": "code",
   "execution_count": 13,
   "metadata": {},
   "outputs": [
    {
     "data": {
      "text/plain": [
       "(10000, 11)"
      ]
     },
     "execution_count": 13,
     "metadata": {},
     "output_type": "execute_result"
    }
   ],
   "source": [
    "X.shape"
   ]
  },
  {
   "cell_type": "markdown",
   "metadata": {},
   "source": [
    "# Eğitim ve Test Seti olarak Ayırmak"
   ]
  },
  {
   "cell_type": "code",
   "execution_count": 14,
   "metadata": {
    "collapsed": true
   },
   "outputs": [],
   "source": [
    "from sklearn.model_selection import train_test_split\n",
    "\n",
    "#Sıralamaya dikkat. Aynı sonuçlar için random_state değeri aynı olmalıdır.\n",
    "X_train, X_test, y_train, y_test = train_test_split(X, y, test_size=0.20, random_state=0)"
   ]
  },
  {
   "cell_type": "markdown",
   "metadata": {},
   "source": [
    "# Feature Scaling"
   ]
  },
  {
   "cell_type": "code",
   "execution_count": 15,
   "metadata": {
    "collapsed": true
   },
   "outputs": [],
   "source": [
    "# Nitelikler matrisini (X) StandardScaler\n",
    "from sklearn.preprocessing import StandardScaler\n",
    "\n",
    "scaler = StandardScaler()\n",
    "X_train = scaler.fit_transform(X_train)\n",
    "X_test = scaler.transform(X_test)"
   ]
  },
  {
   "cell_type": "code",
   "execution_count": 16,
   "metadata": {},
   "outputs": [
    {
     "data": {
      "text/plain": [
       "array([[-0.5698444 ,  1.74309049,  0.16958176, ...,  0.64259497,\n",
       "        -1.03227043,  1.10643166],\n",
       "       [ 1.75486502, -0.57369368, -2.30455945, ...,  0.64259497,\n",
       "         0.9687384 , -0.74866447],\n",
       "       [-0.5698444 , -0.57369368, -1.19119591, ...,  0.64259497,\n",
       "        -1.03227043,  1.48533467],\n",
       "       ..., \n",
       "       [-0.5698444 , -0.57369368,  0.9015152 , ...,  0.64259497,\n",
       "        -1.03227043,  1.41231994],\n",
       "       [-0.5698444 ,  1.74309049, -0.62420521, ...,  0.64259497,\n",
       "         0.9687384 ,  0.84432121],\n",
       "       [ 1.75486502, -0.57369368, -0.28401079, ...,  0.64259497,\n",
       "        -1.03227043,  0.32472465]])"
      ]
     },
     "execution_count": 16,
     "metadata": {},
     "output_type": "execute_result"
    }
   ],
   "source": [
    "X_train"
   ]
  },
  {
   "cell_type": "markdown",
   "metadata": {},
   "source": [
    "# Bölüm 2 ANN"
   ]
  },
  {
   "cell_type": "code",
   "execution_count": 17,
   "metadata": {},
   "outputs": [
    {
     "name": "stderr",
     "output_type": "stream",
     "text": [
      "Using TensorFlow backend.\n"
     ]
    }
   ],
   "source": [
    "# Keras kütüphanelerini indirme\n",
    "import keras\n",
    "from keras.models import Sequential\n",
    "from keras.layers import Dense"
   ]
  },
  {
   "cell_type": "markdown",
   "metadata": {},
   "source": [
    "YAPAY SİNİR AĞI NESNESİ OLUŞTURMA"
   ]
  },
  {
   "cell_type": "code",
   "execution_count": 18,
   "metadata": {
    "collapsed": true
   },
   "outputs": [],
   "source": [
    "# Yapay sinir ağı iki farklı şekilde başlatılabilir: 1. Katmanlar dizilimi (Sequantial layers) olarak. 2. Graph olarak.\n",
    "# Birinci yolda sadece yukarıda indirilen Sequantial sınıfından nesne yaratılır. Bu da Karar ağacı, SVM gibi bir sınıflandırıcı olacak.\n",
    "classifier = Sequential()"
   ]
  },
  {
   "cell_type": "markdown",
   "metadata": {},
   "source": [
    "# Bir Sinir Ağını Stochastic Gradient Descent ile Eğitmenin Aşamaları"
   ]
  },
  {
   "cell_type": "markdown",
   "metadata": {},
   "source": [
    "1. Sıfıra yakın rastgele değerler ile ağırlık katsayılarını belirle.\n",
    "2. Input layera ilk gözlemi(bir satır) her bir düğüme bir nitelik (nitelikler matrisi sütün sayısı kadar) düşecek şekilde ver.\n",
    "3. Ağı çalıştır ve ilk tahmin y değerini üret.\n",
    "4. Üretilen y ile tahmin edilen y arasındaki hatayı hesapla.\n",
    "5. Hesaplanan hatayı geri besleme olarak gönder ve her bir ağırlık katsayısını güncelle.\n",
    "6. 1 ve 5 arasını ya her bir satırdan sonra veya belli bir satır sayısından (grup-batch) sonra tekrarla.\n",
    "7. Veri setindeki tüm satırların bitmesi bir epoch oluşturur. Bunu defalarca tekrarla."
   ]
  },
  {
   "cell_type": "markdown",
   "metadata": {},
   "source": [
    "GİRDİ VE İLK GİZLİ KATMANI EKLEME"
   ]
  },
  {
   "cell_type": "code",
   "execution_count": 19,
   "metadata": {
    "collapsed": true
   },
   "outputs": [],
   "source": [
    "# classifier nesnesinin add() metodu içine Dense() Sınıfının nesnesnesini parametre olarak veriyoruz.\n",
    "# Dense içindeki ilk parametre \n",
    "# kernel_initializer (eski init): Başlangıç ağırlıklarını belirler. uniform fonksiyonunu kullanıyoruz.\n",
    "# input_dim: Yapay sinir ağı nesnesine ilk katman ekleme işlemi yapılırken mutlaka girdi katmanında kaç düğüm olacağı bildirilir.\n",
    "# aksi halde ilk gizli katman kendisine kaç düğümden bağlantı olacak bilemez. \n",
    "# Bu rakam nitelikler matrisindeki sütun sayısıdır yani 11\n",
    "# units (eski:output_dim): Bu sayının nasıl verileceğine dair sağlam bir kural yok. Biraz sanatkarlık ve tecrübe\n",
    "# gerektiriyor. Tecrübeye dayalı ipucu: Girdi ve çıktı düğüm sayısının ortalamasını verebilirsin. \n",
    "# Bu örnekte (11+1=12/2=6) Ya da parametre tuning tekniklerini kullanabilirsin.\n",
    "# activation: Gizli düğümler için rectifier çıktı düğüm için sigmoid olsun. Rectifier action parametresinde relu olarak tanımlı\n",
    "\n",
    "\n",
    "classifier.add(Dense(kernel_initializer = 'uniform', input_dim = 11, units = 6,  activation = 'relu'))\n"
   ]
  },
  {
   "cell_type": "markdown",
   "metadata": {},
   "source": [
    "İKİNCİ GİZLİ KATMANI EKLEME"
   ]
  },
  {
   "cell_type": "code",
   "execution_count": 20,
   "metadata": {
    "collapsed": true
   },
   "outputs": [],
   "source": [
    "# İkinci Gizli Katmanı Eklemek\n",
    "\n",
    "# Yukarıda ilk gizli katman ve düğüm sayısı belli olduğu için burada input_dim parametresi kullanmaya gerek yok.\n",
    "# Gizli katman sayısını (units) aynı tutuyoruz. kaba formül kullandık yine.\n",
    "classifier.add(Dense(kernel_initializer = 'uniform', units = 4,  activation = 'relu'))\n"
   ]
  },
  {
   "cell_type": "markdown",
   "metadata": {},
   "source": [
    "ÇIKTI KATMANI (OUTPUT LAYER) EKLEME"
   ]
  },
  {
   "cell_type": "code",
   "execution_count": 21,
   "metadata": {
    "collapsed": true
   },
   "outputs": [],
   "source": [
    "# Bu katmanın bir öncekinden farkı düğüm sayısı ve activasyon fonksiyonu olacak\n",
    "\n",
    "classifier.add(Dense(kernel_initializer = 'uniform', units = 1,  activation = 'sigmoid'))"
   ]
  },
  {
   "cell_type": "markdown",
   "metadata": {},
   "source": [
    "YAPAY SINIR AĞINI DERLEME (COMPILE ANN)"
   ]
  },
  {
   "cell_type": "code",
   "execution_count": 22,
   "metadata": {
    "collapsed": true
   },
   "outputs": [],
   "source": [
    "# optimizer: Stochastic Gradient Descent'i temsilen adam\n",
    "# loss: SGD'ni optimizasyonu için kullanılacak loss function. Tahmin y ile gerçek ye değeri arasını hesaplayıp en optimal değeri\n",
    "# SGD'ye buldurur. Logaritmik loss function. Binary olduğu için binary_crossentropy kullanıyoruz.\n",
    "# metrics: İlave olarak burada model değerlendirme kriterleri belirlenir. Bir liste halinde verilir. Biz şimdilik sadece accuracy veriyoruz.\n",
    "\n",
    "\n",
    "classifier.compile(optimizer='adam', loss='binary_crossentropy', metrics=['accuracy'])"
   ]
  },
  {
   "cell_type": "markdown",
   "metadata": {},
   "source": [
    "# Yapay Sinir Ağını Eğitim Verisi ile Eğitmek"
   ]
  },
  {
   "cell_type": "code",
   "execution_count": 23,
   "metadata": {},
   "outputs": [
    {
     "name": "stdout",
     "output_type": "stream",
     "text": [
      "Epoch 1/200\n",
      "8000/8000 [==============================] - 2s 293us/step - loss: 0.4701 - acc: 0.8083\n",
      "Epoch 2/200\n",
      "8000/8000 [==============================] - 2s 243us/step - loss: 0.4001 - acc: 0.8270\n",
      "Epoch 3/200\n",
      "8000/8000 [==============================] - 2s 227us/step - loss: 0.3864 - acc: 0.8281\n",
      "Epoch 4/200\n",
      "8000/8000 [==============================] - 2s 230us/step - loss: 0.3777 - acc: 0.8321\n",
      "Epoch 5/200\n",
      "8000/8000 [==============================] - 2s 224us/step - loss: 0.3720 - acc: 0.8446\n",
      "Epoch 6/200\n",
      "8000/8000 [==============================] - 2s 225us/step - loss: 0.3669 - acc: 0.8480\n",
      "Epoch 7/200\n",
      "8000/8000 [==============================] - 2s 229us/step - loss: 0.3633 - acc: 0.8513\n",
      "Epoch 8/200\n",
      "8000/8000 [==============================] - 2s 215us/step - loss: 0.3611 - acc: 0.8524\n",
      "Epoch 9/200\n",
      "8000/8000 [==============================] - 2s 203us/step - loss: 0.3591 - acc: 0.8500\n",
      "Epoch 10/200\n",
      "8000/8000 [==============================] - 2s 296us/step - loss: 0.3578 - acc: 0.8505\n",
      "Epoch 11/200\n",
      "8000/8000 [==============================] - 2s 238us/step - loss: 0.3558 - acc: 0.8541\n",
      "Epoch 12/200\n",
      "8000/8000 [==============================] - 2s 192us/step - loss: 0.3543 - acc: 0.8534\n",
      "Epoch 13/200\n",
      "8000/8000 [==============================] - 2s 195us/step - loss: 0.3525 - acc: 0.8544\n",
      "Epoch 14/200\n",
      "8000/8000 [==============================] - 2s 206us/step - loss: 0.3523 - acc: 0.8550\n",
      "Epoch 15/200\n",
      "8000/8000 [==============================] - 2s 213us/step - loss: 0.3507 - acc: 0.8569\n",
      "Epoch 16/200\n",
      "8000/8000 [==============================] - 1s 186us/step - loss: 0.3494 - acc: 0.8556\n",
      "Epoch 17/200\n",
      "8000/8000 [==============================] - 2s 207us/step - loss: 0.3486 - acc: 0.8564\n",
      "Epoch 18/200\n",
      "8000/8000 [==============================] - 2s 243us/step - loss: 0.3472 - acc: 0.8568\n",
      "Epoch 19/200\n",
      "8000/8000 [==============================] - 2s 245us/step - loss: 0.3478 - acc: 0.8566\n",
      "Epoch 20/200\n",
      "8000/8000 [==============================] - 2s 230us/step - loss: 0.3465 - acc: 0.8560\n",
      "Epoch 21/200\n",
      "8000/8000 [==============================] - 2s 208us/step - loss: 0.3456 - acc: 0.8574\n",
      "Epoch 22/200\n",
      "8000/8000 [==============================] - 2s 205us/step - loss: 0.3448 - acc: 0.8595\n",
      "Epoch 23/200\n",
      "8000/8000 [==============================] - 2s 215us/step - loss: 0.3441 - acc: 0.8590\n",
      "Epoch 24/200\n",
      "8000/8000 [==============================] - 2s 261us/step - loss: 0.3428 - acc: 0.8595\n",
      "Epoch 25/200\n",
      "8000/8000 [==============================] - 2s 274us/step - loss: 0.3426 - acc: 0.8561\n",
      "Epoch 26/200\n",
      "8000/8000 [==============================] - 2s 200us/step - loss: 0.3429 - acc: 0.8589\n",
      "Epoch 27/200\n",
      "8000/8000 [==============================] - 2s 238us/step - loss: 0.3414 - acc: 0.8600\n",
      "Epoch 28/200\n",
      "8000/8000 [==============================] - 1s 176us/step - loss: 0.3415 - acc: 0.8589\n",
      "Epoch 29/200\n",
      "8000/8000 [==============================] - 1s 176us/step - loss: 0.3403 - acc: 0.8585\n",
      "Epoch 30/200\n",
      "8000/8000 [==============================] - 1s 176us/step - loss: 0.3410 - acc: 0.8580\n",
      "Epoch 31/200\n",
      "8000/8000 [==============================] - 1s 185us/step - loss: 0.3395 - acc: 0.8590\n",
      "Epoch 32/200\n",
      "8000/8000 [==============================] - 1s 174us/step - loss: 0.3400 - acc: 0.8584\n",
      "Epoch 33/200\n",
      "8000/8000 [==============================] - 2s 194us/step - loss: 0.3401 - acc: 0.8591\n",
      "Epoch 34/200\n",
      "8000/8000 [==============================] - 1s 179us/step - loss: 0.3388 - acc: 0.8609\n",
      "Epoch 35/200\n",
      "8000/8000 [==============================] - 2s 203us/step - loss: 0.3394 - acc: 0.8590\n",
      "Epoch 36/200\n",
      "8000/8000 [==============================] - 1s 180us/step - loss: 0.3381 - acc: 0.8608\n",
      "Epoch 37/200\n",
      "8000/8000 [==============================] - 2s 194us/step - loss: 0.3388 - acc: 0.8586\n",
      "Epoch 38/200\n",
      "8000/8000 [==============================] - 2s 215us/step - loss: 0.3377 - acc: 0.8618\n",
      "Epoch 39/200\n",
      "8000/8000 [==============================] - 2s 196us/step - loss: 0.3384 - acc: 0.8611\n",
      "Epoch 40/200\n",
      "8000/8000 [==============================] - 2s 200us/step - loss: 0.3371 - acc: 0.8609\n",
      "Epoch 41/200\n",
      "8000/8000 [==============================] - 2s 191us/step - loss: 0.3382 - acc: 0.8598\n",
      "Epoch 42/200\n",
      "8000/8000 [==============================] - 1s 187us/step - loss: 0.3382 - acc: 0.8599\n",
      "Epoch 43/200\n",
      "8000/8000 [==============================] - 2s 188us/step - loss: 0.3374 - acc: 0.8608\n",
      "Epoch 44/200\n",
      "8000/8000 [==============================] - 1s 185us/step - loss: 0.3382 - acc: 0.8610\n",
      "Epoch 45/200\n",
      "8000/8000 [==============================] - 1s 176us/step - loss: 0.3382 - acc: 0.8601\n",
      "Epoch 46/200\n",
      "8000/8000 [==============================] - 2s 210us/step - loss: 0.3379 - acc: 0.8595\n",
      "Epoch 47/200\n",
      "8000/8000 [==============================] - 2s 258us/step - loss: 0.3376 - acc: 0.8598\n",
      "Epoch 48/200\n",
      "8000/8000 [==============================] - 2s 188us/step - loss: 0.3372 - acc: 0.8591\n",
      "Epoch 49/200\n",
      "8000/8000 [==============================] - 1s 174us/step - loss: 0.3364 - acc: 0.8616\n",
      "Epoch 50/200\n",
      "8000/8000 [==============================] - 1s 172us/step - loss: 0.3372 - acc: 0.8616\n",
      "Epoch 51/200\n",
      "8000/8000 [==============================] - 1s 175us/step - loss: 0.3367 - acc: 0.8618\n",
      "Epoch 52/200\n",
      "8000/8000 [==============================] - 2s 193us/step - loss: 0.3356 - acc: 0.8629\n",
      "Epoch 53/200\n",
      "8000/8000 [==============================] - 1s 174us/step - loss: 0.3381 - acc: 0.8593\n",
      "Epoch 54/200\n",
      "8000/8000 [==============================] - 2s 193us/step - loss: 0.3374 - acc: 0.8569\n",
      "Epoch 55/200\n",
      "8000/8000 [==============================] - 2s 214us/step - loss: 0.3367 - acc: 0.8615\n",
      "Epoch 56/200\n",
      "8000/8000 [==============================] - 2s 222us/step - loss: 0.3370 - acc: 0.8614\n",
      "Epoch 57/200\n",
      "8000/8000 [==============================] - 1s 184us/step - loss: 0.3363 - acc: 0.8593\n",
      "Epoch 58/200\n",
      "8000/8000 [==============================] - 1s 179us/step - loss: 0.3365 - acc: 0.8614\n",
      "Epoch 59/200\n",
      "8000/8000 [==============================] - 1s 177us/step - loss: 0.3373 - acc: 0.8605\n",
      "Epoch 60/200\n",
      "8000/8000 [==============================] - 1s 182us/step - loss: 0.3361 - acc: 0.8630\n",
      "Epoch 61/200\n",
      "8000/8000 [==============================] - 1s 172us/step - loss: 0.3379 - acc: 0.8598 1s -\n",
      "Epoch 62/200\n",
      "8000/8000 [==============================] - 1s 175us/step - loss: 0.3364 - acc: 0.8614 0s - loss: 0.3405\n",
      "Epoch 63/200\n",
      "8000/8000 [==============================] - 1s 183us/step - loss: 0.3367 - acc: 0.8599\n",
      "Epoch 64/200\n",
      "8000/8000 [==============================] - 1s 182us/step - loss: 0.3369 - acc: 0.8590\n",
      "Epoch 65/200\n",
      "8000/8000 [==============================] - 1s 173us/step - loss: 0.3363 - acc: 0.8606\n",
      "Epoch 66/200\n",
      "8000/8000 [==============================] - 1s 180us/step - loss: 0.3349 - acc: 0.8605\n",
      "Epoch 67/200\n",
      "8000/8000 [==============================] - 2s 195us/step - loss: 0.3366 - acc: 0.8599\n",
      "Epoch 68/200\n",
      "8000/8000 [==============================] - 2s 191us/step - loss: 0.3350 - acc: 0.8630 1s -\n",
      "Epoch 69/200\n",
      "8000/8000 [==============================] - 1s 178us/step - loss: 0.3357 - acc: 0.8611\n",
      "Epoch 70/200\n",
      "8000/8000 [==============================] - 1s 175us/step - loss: 0.3372 - acc: 0.8606\n",
      "Epoch 71/200\n",
      "8000/8000 [==============================] - 1s 175us/step - loss: 0.3355 - acc: 0.8611\n",
      "Epoch 72/200\n",
      "8000/8000 [==============================] - 1s 176us/step - loss: 0.3363 - acc: 0.8599\n",
      "Epoch 73/200\n",
      "8000/8000 [==============================] - 1s 183us/step - loss: 0.3365 - acc: 0.8610\n",
      "Epoch 74/200\n",
      "8000/8000 [==============================] - 1s 176us/step - loss: 0.3350 - acc: 0.8606\n",
      "Epoch 75/200\n",
      "8000/8000 [==============================] - 2s 200us/step - loss: 0.3360 - acc: 0.8605\n",
      "Epoch 76/200\n",
      "8000/8000 [==============================] - 1s 173us/step - loss: 0.3363 - acc: 0.8594\n",
      "Epoch 77/200\n",
      "8000/8000 [==============================] - 1s 185us/step - loss: 0.3354 - acc: 0.8595\n",
      "Epoch 78/200\n",
      "8000/8000 [==============================] - 1s 182us/step - loss: 0.3359 - acc: 0.8610\n",
      "Epoch 79/200\n",
      "8000/8000 [==============================] - 1s 187us/step - loss: 0.3353 - acc: 0.8603\n",
      "Epoch 80/200\n",
      "8000/8000 [==============================] - 1s 178us/step - loss: 0.3349 - acc: 0.8595\n",
      "Epoch 81/200\n"
     ]
    },
    {
     "name": "stdout",
     "output_type": "stream",
     "text": [
      "8000/8000 [==============================] - 1s 181us/step - loss: 0.3353 - acc: 0.8629\n",
      "Epoch 82/200\n",
      "8000/8000 [==============================] - 1s 176us/step - loss: 0.3350 - acc: 0.8613\n",
      "Epoch 83/200\n",
      "8000/8000 [==============================] - 1s 177us/step - loss: 0.3344 - acc: 0.8596 1s -\n",
      "Epoch 84/200\n",
      "8000/8000 [==============================] - 1s 172us/step - loss: 0.3357 - acc: 0.8599\n",
      "Epoch 85/200\n",
      "8000/8000 [==============================] - 1s 171us/step - loss: 0.3347 - acc: 0.8594 0s - loss: 0.3\n",
      "Epoch 86/200\n",
      "8000/8000 [==============================] - 1s 185us/step - loss: 0.3352 - acc: 0.8585\n",
      "Epoch 87/200\n",
      "8000/8000 [==============================] - 2s 221us/step - loss: 0.3343 - acc: 0.8621\n",
      "Epoch 88/200\n",
      "8000/8000 [==============================] - 2s 222us/step - loss: 0.3346 - acc: 0.8611\n",
      "Epoch 89/200\n",
      "8000/8000 [==============================] - 1s 175us/step - loss: 0.3341 - acc: 0.8634\n",
      "Epoch 90/200\n",
      "8000/8000 [==============================] - 2s 195us/step - loss: 0.3356 - acc: 0.8616\n",
      "Epoch 91/200\n",
      "8000/8000 [==============================] - 2s 194us/step - loss: 0.3359 - acc: 0.8610\n",
      "Epoch 92/200\n",
      "8000/8000 [==============================] - 1s 187us/step - loss: 0.3341 - acc: 0.8639\n",
      "Epoch 93/200\n",
      "8000/8000 [==============================] - 2s 194us/step - loss: 0.3343 - acc: 0.8614\n",
      "Epoch 94/200\n",
      "8000/8000 [==============================] - 2s 205us/step - loss: 0.3348 - acc: 0.8598\n",
      "Epoch 95/200\n",
      "8000/8000 [==============================] - 2s 218us/step - loss: 0.3346 - acc: 0.8618\n",
      "Epoch 96/200\n",
      "8000/8000 [==============================] - 2s 236us/step - loss: 0.3345 - acc: 0.8586\n",
      "Epoch 97/200\n",
      "8000/8000 [==============================] - 2s 196us/step - loss: 0.3342 - acc: 0.8640\n",
      "Epoch 98/200\n",
      "8000/8000 [==============================] - 2s 192us/step - loss: 0.3346 - acc: 0.8613\n",
      "Epoch 99/200\n",
      "8000/8000 [==============================] - 1s 178us/step - loss: 0.3332 - acc: 0.8615 0s - loss: 0.3349 - acc: 0\n",
      "Epoch 100/200\n",
      "8000/8000 [==============================] - 1s 181us/step - loss: 0.3335 - acc: 0.8610\n",
      "Epoch 101/200\n",
      "8000/8000 [==============================] - 2s 207us/step - loss: 0.3343 - acc: 0.8593\n",
      "Epoch 102/200\n",
      "8000/8000 [==============================] - 2s 191us/step - loss: 0.3327 - acc: 0.8605\n",
      "Epoch 103/200\n",
      "8000/8000 [==============================] - 2s 201us/step - loss: 0.3348 - acc: 0.8615\n",
      "Epoch 104/200\n",
      "8000/8000 [==============================] - 2s 207us/step - loss: 0.3340 - acc: 0.8628\n",
      "Epoch 105/200\n",
      "8000/8000 [==============================] - 1s 184us/step - loss: 0.3333 - acc: 0.8624\n",
      "Epoch 106/200\n",
      "8000/8000 [==============================] - 1s 181us/step - loss: 0.3344 - acc: 0.8613\n",
      "Epoch 107/200\n",
      "8000/8000 [==============================] - 2s 190us/step - loss: 0.3332 - acc: 0.8616\n",
      "Epoch 108/200\n",
      "8000/8000 [==============================] - 2s 190us/step - loss: 0.3336 - acc: 0.8599\n",
      "Epoch 109/200\n",
      "8000/8000 [==============================] - 2s 190us/step - loss: 0.3333 - acc: 0.8608 0s - loss: 0.3344\n",
      "Epoch 110/200\n",
      "8000/8000 [==============================] - 1s 185us/step - loss: 0.3341 - acc: 0.8619\n",
      "Epoch 111/200\n",
      "8000/8000 [==============================] - 2s 190us/step - loss: 0.3344 - acc: 0.8620\n",
      "Epoch 112/200\n",
      "8000/8000 [==============================] - 1s 180us/step - loss: 0.3343 - acc: 0.8614 0s - loss: 0.3387 -  - ETA: 0s - loss: 0.3334 - acc: 0.861\n",
      "Epoch 113/200\n",
      "8000/8000 [==============================] - 2s 190us/step - loss: 0.3335 - acc: 0.8615\n",
      "Epoch 114/200\n",
      "8000/8000 [==============================] - 1s 185us/step - loss: 0.3333 - acc: 0.8635\n",
      "Epoch 115/200\n",
      "8000/8000 [==============================] - 2s 204us/step - loss: 0.3350 - acc: 0.8599\n",
      "Epoch 116/200\n",
      "8000/8000 [==============================] - 1s 179us/step - loss: 0.3337 - acc: 0.8609\n",
      "Epoch 117/200\n",
      "8000/8000 [==============================] - 2s 188us/step - loss: 0.3349 - acc: 0.8604\n",
      "Epoch 118/200\n",
      "8000/8000 [==============================] - 1s 184us/step - loss: 0.3342 - acc: 0.8618\n",
      "Epoch 119/200\n",
      "8000/8000 [==============================] - 2s 198us/step - loss: 0.3333 - acc: 0.8610\n",
      "Epoch 120/200\n",
      "8000/8000 [==============================] - 2s 206us/step - loss: 0.3333 - acc: 0.8630\n",
      "Epoch 121/200\n",
      "8000/8000 [==============================] - 2s 198us/step - loss: 0.3343 - acc: 0.8603\n",
      "Epoch 122/200\n",
      "8000/8000 [==============================] - 2s 209us/step - loss: 0.3330 - acc: 0.8636\n",
      "Epoch 123/200\n",
      "8000/8000 [==============================] - 2s 199us/step - loss: 0.3338 - acc: 0.8621\n",
      "Epoch 124/200\n",
      "8000/8000 [==============================] - 2s 211us/step - loss: 0.3328 - acc: 0.8619\n",
      "Epoch 125/200\n",
      "8000/8000 [==============================] - 2s 240us/step - loss: 0.3322 - acc: 0.8645\n",
      "Epoch 126/200\n",
      "8000/8000 [==============================] - 2s 262us/step - loss: 0.3333 - acc: 0.8626\n",
      "Epoch 127/200\n",
      "8000/8000 [==============================] - 2s 203us/step - loss: 0.3351 - acc: 0.8591\n",
      "Epoch 128/200\n",
      "8000/8000 [==============================] - 1s 182us/step - loss: 0.3337 - acc: 0.8616\n",
      "Epoch 129/200\n",
      "8000/8000 [==============================] - 1s 183us/step - loss: 0.3333 - acc: 0.8608\n",
      "Epoch 130/200\n",
      "8000/8000 [==============================] - 1s 182us/step - loss: 0.3327 - acc: 0.8618\n",
      "Epoch 131/200\n",
      "8000/8000 [==============================] - 2s 189us/step - loss: 0.3341 - acc: 0.8616\n",
      "Epoch 132/200\n",
      "8000/8000 [==============================] - 2s 194us/step - loss: 0.3337 - acc: 0.8618\n",
      "Epoch 133/200\n",
      "8000/8000 [==============================] - 2s 214us/step - loss: 0.3328 - acc: 0.8634\n",
      "Epoch 134/200\n",
      "8000/8000 [==============================] - 2s 241us/step - loss: 0.3343 - acc: 0.8609\n",
      "Epoch 135/200\n",
      "8000/8000 [==============================] - ETA: 0s - loss: 0.3331 - acc: 0.861 - 2s 253us/step - loss: 0.3332 - acc: 0.8613\n",
      "Epoch 136/200\n",
      "8000/8000 [==============================] - 2s 236us/step - loss: 0.3338 - acc: 0.8629\n",
      "Epoch 137/200\n",
      "8000/8000 [==============================] - 2s 218us/step - loss: 0.3342 - acc: 0.8625\n",
      "Epoch 138/200\n",
      "8000/8000 [==============================] - 2s 201us/step - loss: 0.3339 - acc: 0.8619\n",
      "Epoch 139/200\n",
      "8000/8000 [==============================] - 2s 205us/step - loss: 0.3335 - acc: 0.8624\n",
      "Epoch 140/200\n",
      "8000/8000 [==============================] - 2s 205us/step - loss: 0.3333 - acc: 0.8600\n",
      "Epoch 141/200\n",
      "8000/8000 [==============================] - 2s 210us/step - loss: 0.3315 - acc: 0.8643\n",
      "Epoch 142/200\n",
      "8000/8000 [==============================] - 2s 191us/step - loss: 0.3340 - acc: 0.8609\n",
      "Epoch 143/200\n",
      "8000/8000 [==============================] - 2s 198us/step - loss: 0.3331 - acc: 0.8625\n",
      "Epoch 144/200\n",
      "8000/8000 [==============================] - 2s 199us/step - loss: 0.3321 - acc: 0.8650\n",
      "Epoch 145/200\n",
      "8000/8000 [==============================] - 1s 179us/step - loss: 0.3347 - acc: 0.8608\n",
      "Epoch 146/200\n",
      "8000/8000 [==============================] - 2s 193us/step - loss: 0.3327 - acc: 0.8645\n",
      "Epoch 147/200\n",
      "8000/8000 [==============================] - 1s 179us/step - loss: 0.3343 - acc: 0.8590\n",
      "Epoch 148/200\n",
      "8000/8000 [==============================] - 1s 179us/step - loss: 0.3335 - acc: 0.8604\n",
      "Epoch 149/200\n",
      "8000/8000 [==============================] - 1s 180us/step - loss: 0.3332 - acc: 0.8596\n",
      "Epoch 150/200\n",
      "8000/8000 [==============================] - 1s 184us/step - loss: 0.3328 - acc: 0.8629\n",
      "Epoch 151/200\n",
      "8000/8000 [==============================] - 1s 181us/step - loss: 0.3326 - acc: 0.8606\n",
      "Epoch 152/200\n",
      "8000/8000 [==============================] - 2s 195us/step - loss: 0.3348 - acc: 0.8579\n",
      "Epoch 153/200\n",
      "8000/8000 [==============================] - 2s 213us/step - loss: 0.3338 - acc: 0.8598\n",
      "Epoch 154/200\n",
      "8000/8000 [==============================] - 2s 195us/step - loss: 0.3335 - acc: 0.8606\n",
      "Epoch 155/200\n",
      "8000/8000 [==============================] - 1s 186us/step - loss: 0.3332 - acc: 0.8599\n",
      "Epoch 156/200\n",
      "8000/8000 [==============================] - 1s 186us/step - loss: 0.3341 - acc: 0.8605\n",
      "Epoch 157/200\n",
      "8000/8000 [==============================] - 1s 180us/step - loss: 0.3330 - acc: 0.8585\n",
      "Epoch 158/200\n",
      "8000/8000 [==============================] - 2s 188us/step - loss: 0.3330 - acc: 0.8616\n",
      "Epoch 159/200\n",
      "8000/8000 [==============================] - 2s 191us/step - loss: 0.3332 - acc: 0.8601\n",
      "Epoch 160/200\n"
     ]
    },
    {
     "name": "stdout",
     "output_type": "stream",
     "text": [
      "8000/8000 [==============================] - 1s 178us/step - loss: 0.3328 - acc: 0.8615\n",
      "Epoch 161/200\n",
      "8000/8000 [==============================] - 1s 182us/step - loss: 0.3322 - acc: 0.8615\n",
      "Epoch 162/200\n",
      "8000/8000 [==============================] - 1s 183us/step - loss: 0.3330 - acc: 0.8611 0s - loss: 0.3331 - acc: 0.\n",
      "Epoch 163/200\n",
      "8000/8000 [==============================] - 1s 186us/step - loss: 0.3339 - acc: 0.8609\n",
      "Epoch 164/200\n",
      "8000/8000 [==============================] - 2s 217us/step - loss: 0.3327 - acc: 0.8616\n",
      "Epoch 165/200\n",
      "8000/8000 [==============================] - 2s 229us/step - loss: 0.3339 - acc: 0.8620\n",
      "Epoch 166/200\n",
      "8000/8000 [==============================] - 1s 181us/step - loss: 0.3336 - acc: 0.8598\n",
      "Epoch 167/200\n",
      "8000/8000 [==============================] - 1s 172us/step - loss: 0.3332 - acc: 0.8609\n",
      "Epoch 168/200\n",
      "8000/8000 [==============================] - 1s 180us/step - loss: 0.3335 - acc: 0.8606\n",
      "Epoch 169/200\n",
      "8000/8000 [==============================] - 2s 191us/step - loss: 0.3331 - acc: 0.8621\n",
      "Epoch 170/200\n",
      "8000/8000 [==============================] - 2s 203us/step - loss: 0.3327 - acc: 0.8609\n",
      "Epoch 171/200\n",
      "8000/8000 [==============================] - 2s 200us/step - loss: 0.3328 - acc: 0.8611\n",
      "Epoch 172/200\n",
      "8000/8000 [==============================] - 2s 228us/step - loss: 0.3333 - acc: 0.8604\n",
      "Epoch 173/200\n",
      "8000/8000 [==============================] - 1s 177us/step - loss: 0.3333 - acc: 0.8596\n",
      "Epoch 174/200\n",
      "8000/8000 [==============================] - 2s 201us/step - loss: 0.3324 - acc: 0.8629\n",
      "Epoch 175/200\n",
      "8000/8000 [==============================] - 1s 175us/step - loss: 0.3333 - acc: 0.8604\n",
      "Epoch 176/200\n",
      "8000/8000 [==============================] - 1s 177us/step - loss: 0.3335 - acc: 0.8605\n",
      "Epoch 177/200\n",
      "8000/8000 [==============================] - 1s 179us/step - loss: 0.3323 - acc: 0.8618 0s - loss: 0.326\n",
      "Epoch 178/200\n",
      "8000/8000 [==============================] - 1s 177us/step - loss: 0.3329 - acc: 0.8590\n",
      "Epoch 179/200\n",
      "8000/8000 [==============================] - 1s 176us/step - loss: 0.3336 - acc: 0.8614\n",
      "Epoch 180/200\n",
      "8000/8000 [==============================] - 1s 185us/step - loss: 0.3326 - acc: 0.8623\n",
      "Epoch 181/200\n",
      "8000/8000 [==============================] - 2s 190us/step - loss: 0.3329 - acc: 0.8595\n",
      "Epoch 182/200\n",
      "8000/8000 [==============================] - 1s 181us/step - loss: 0.3334 - acc: 0.8615 0s - loss: 0.33\n",
      "Epoch 183/200\n",
      "8000/8000 [==============================] - 1s 182us/step - loss: 0.3326 - acc: 0.8631\n",
      "Epoch 184/200\n",
      "8000/8000 [==============================] - 2s 191us/step - loss: 0.3339 - acc: 0.8590\n",
      "Epoch 185/200\n",
      "8000/8000 [==============================] - 2s 194us/step - loss: 0.3328 - acc: 0.8626\n",
      "Epoch 186/200\n",
      "8000/8000 [==============================] - 2s 192us/step - loss: 0.3335 - acc: 0.8609\n",
      "Epoch 187/200\n",
      "8000/8000 [==============================] - 2s 188us/step - loss: 0.3334 - acc: 0.8621\n",
      "Epoch 188/200\n",
      "8000/8000 [==============================] - 1s 183us/step - loss: 0.3327 - acc: 0.8628\n",
      "Epoch 189/200\n",
      "8000/8000 [==============================] - 1s 185us/step - loss: 0.3327 - acc: 0.8644\n",
      "Epoch 190/200\n",
      "8000/8000 [==============================] - 2s 222us/step - loss: 0.3320 - acc: 0.8629\n",
      "Epoch 191/200\n",
      "8000/8000 [==============================] - 1s 187us/step - loss: 0.3331 - acc: 0.8611\n",
      "Epoch 192/200\n",
      "8000/8000 [==============================] - 2s 201us/step - loss: 0.3324 - acc: 0.8605\n",
      "Epoch 193/200\n",
      "8000/8000 [==============================] - 1s 183us/step - loss: 0.3325 - acc: 0.8631\n",
      "Epoch 194/200\n",
      "8000/8000 [==============================] - 1s 182us/step - loss: 0.3329 - acc: 0.8614 1s - loss:\n",
      "Epoch 195/200\n",
      "8000/8000 [==============================] - 1s 183us/step - loss: 0.3327 - acc: 0.8624\n",
      "Epoch 196/200\n",
      "8000/8000 [==============================] - 2s 202us/step - loss: 0.3326 - acc: 0.8626\n",
      "Epoch 197/200\n",
      "8000/8000 [==============================] - 2s 203us/step - loss: 0.3327 - acc: 0.8605 0s - loss: 0.3290 - ac\n",
      "Epoch 198/200\n",
      "8000/8000 [==============================] - 2s 204us/step - loss: 0.3329 - acc: 0.8634\n",
      "Epoch 199/200\n",
      "8000/8000 [==============================] - 2s 207us/step - loss: 0.3327 - acc: 0.8648\n",
      "Epoch 200/200\n",
      "8000/8000 [==============================] - 2s 196us/step - loss: 0.3329 - acc: 0.8615\n"
     ]
    },
    {
     "data": {
      "text/plain": [
       "<keras.callbacks.History at 0x2c108c2ebe0>"
      ]
     },
     "execution_count": 23,
     "metadata": {},
     "output_type": "execute_result"
    }
   ],
   "source": [
    "classifier.fit(X_train, y_train, batch_size=5, epochs=200)"
   ]
  },
  {
   "cell_type": "markdown",
   "metadata": {},
   "source": [
    "# Yapay Sinir Ağını Test verisi ile Test Etmek"
   ]
  },
  {
   "cell_type": "code",
   "execution_count": 24,
   "metadata": {
    "collapsed": true
   },
   "outputs": [],
   "source": [
    "y_pred = classifier.predict(X_test)"
   ]
  },
  {
   "cell_type": "code",
   "execution_count": 25,
   "metadata": {},
   "outputs": [
    {
     "data": {
      "text/plain": [
       "array([[ 0.29230243],\n",
       "       [ 0.16571024],\n",
       "       [ 0.12460647],\n",
       "       ..., \n",
       "       [ 0.16183192],\n",
       "       [ 0.13805591],\n",
       "       [ 0.26229781]], dtype=float32)"
      ]
     },
     "execution_count": 25,
     "metadata": {},
     "output_type": "execute_result"
    }
   ],
   "source": [
    "y_pred"
   ]
  },
  {
   "cell_type": "code",
   "execution_count": 29,
   "metadata": {
    "collapsed": true
   },
   "outputs": [],
   "source": [
    "y_pred = (y_pred>0.5)"
   ]
  },
  {
   "cell_type": "code",
   "execution_count": 30,
   "metadata": {},
   "outputs": [
    {
     "data": {
      "text/plain": [
       "array([[1527,   68],\n",
       "       [ 200,  205]])"
      ]
     },
     "execution_count": 30,
     "metadata": {},
     "output_type": "execute_result"
    }
   ],
   "source": [
    "from sklearn.metrics import confusion_matrix\n",
    "cm = confusion_matrix(y_test, y_pred)\n",
    "cm"
   ]
  },
  {
   "cell_type": "code",
   "execution_count": 31,
   "metadata": {},
   "outputs": [
    {
     "data": {
      "text/plain": [
       "0.8387581372058087"
      ]
     },
     "execution_count": 31,
     "metadata": {},
     "output_type": "execute_result"
    }
   ],
   "source": [
    "# Elle accuracy tekrar hesaplayalım (Doğru tahmin edilenlerin tüm test setine oranı)\n",
    "acc = (1556+119)/(1556+39+286+116)\n",
    "acc"
   ]
  },
  {
   "cell_type": "code",
   "execution_count": null,
   "metadata": {
    "collapsed": true
   },
   "outputs": [],
   "source": []
  }
 ],
 "metadata": {
  "kernelspec": {
   "display_name": "Python [conda root]",
   "language": "python",
   "name": "conda-root-py"
  },
  "language_info": {
   "codemirror_mode": {
    "name": "ipython",
    "version": 3
   },
   "file_extension": ".py",
   "mimetype": "text/x-python",
   "name": "python",
   "nbconvert_exporter": "python",
   "pygments_lexer": "ipython3",
   "version": "3.5.3"
  }
 },
 "nbformat": 4,
 "nbformat_minor": 2
}
